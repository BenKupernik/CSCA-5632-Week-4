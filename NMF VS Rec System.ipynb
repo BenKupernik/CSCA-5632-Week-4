{
 "cells": [
  {
   "cell_type": "code",
   "execution_count": 1,
   "id": "3578eeba-971a-48e5-992c-e5ad009c29ef",
   "metadata": {},
   "outputs": [],
   "source": [
    "import pandas as pd\n",
    "from sklearn.decomposition import NMF\n",
    "import numpy as np"
   ]
  },
  {
   "cell_type": "code",
   "execution_count": 4,
   "id": "ad28d163-4ef6-4c94-a4f4-d369dc14b070",
   "metadata": {},
   "outputs": [],
   "source": [
    "# Calculate the rmse using a modified version of the week 3 function\n",
    "def rmse(pred, real):\n",
    "    pred[np.isnan(pred)]=3 #In case there is nan values in prediction, it will impute to 3.\n",
    "    return np.sqrt(((real-pred)**2).mean())"
   ]
  },
  {
   "cell_type": "code",
   "execution_count": 2,
   "id": "75a6cbb1-a555-48d5-b2ad-20e98feeec3d",
   "metadata": {},
   "outputs": [],
   "source": [
    "# First import all the data\n",
    "MV_users = pd.read_csv('data/users.csv')\n",
    "MV_movies = pd.read_csv('data/movies.csv')\n",
    "train = pd.read_csv('data/train.csv')\n",
    "test = pd.read_csv('data/test.csv')"
   ]
  },
  {
   "cell_type": "code",
   "execution_count": 7,
   "id": "c9396dd0-514f-4b18-bd9e-d1da151408be",
   "metadata": {},
   "outputs": [
    {
     "name": "stdout",
     "output_type": "stream",
     "text": [
      "there are 21430414 null values.\n",
      "there are now 0 null values.\n"
     ]
    }
   ],
   "source": [
    "# lets see how many null values there are if I make a table of user ID's as rows and movie IDs as columns\n",
    "ratings_by_user_df = train.pivot(index='uID', columns='mID', values='rating')\n",
    "print('there are', sum(ratings_by_user_df.isna().sum()), 'null values.')\n",
    "# thats a lot of null values. Lets fill them with the average rating\n",
    "ratings_by_user_df = ratings_by_user_df.fillna(value = 0)\n",
    "# check it worked\n",
    "print('there are now', sum(ratings_by_user_df.isna().sum()), 'null values.')"
   ]
  },
  {
   "cell_type": "code",
   "execution_count": 4,
   "id": "5d52095a-a633-45e2-9d89-f79d208b5637",
   "metadata": {},
   "outputs": [],
   "source": [
    "# lets run it through NMF\n",
    "nmf = NMF(n_components=5, random_state=0,)\n",
    "w1 = nmf.fit_transform(ratings_by_user_df)\n",
    "h1 = nmf.components_"
   ]
  },
  {
   "cell_type": "code",
   "execution_count": 5,
   "id": "245709b3-7b36-4e53-acfa-76be86ff19a8",
   "metadata": {},
   "outputs": [
    {
     "data": {
      "text/html": [
       "<div>\n",
       "<style scoped>\n",
       "    .dataframe tbody tr th:only-of-type {\n",
       "        vertical-align: middle;\n",
       "    }\n",
       "\n",
       "    .dataframe tbody tr th {\n",
       "        vertical-align: top;\n",
       "    }\n",
       "\n",
       "    .dataframe thead th {\n",
       "        text-align: right;\n",
       "    }\n",
       "</style>\n",
       "<table border=\"1\" class=\"dataframe\">\n",
       "  <thead>\n",
       "    <tr style=\"text-align: right;\">\n",
       "      <th></th>\n",
       "      <th>uID</th>\n",
       "      <th>mID</th>\n",
       "      <th>predicted_rating</th>\n",
       "      <th>rating</th>\n",
       "    </tr>\n",
       "  </thead>\n",
       "  <tbody>\n",
       "    <tr>\n",
       "      <th>0</th>\n",
       "      <td>6</td>\n",
       "      <td>1</td>\n",
       "      <td>0.548484</td>\n",
       "      <td>4</td>\n",
       "    </tr>\n",
       "    <tr>\n",
       "      <th>1</th>\n",
       "      <td>8</td>\n",
       "      <td>1</td>\n",
       "      <td>0.935704</td>\n",
       "      <td>4</td>\n",
       "    </tr>\n",
       "    <tr>\n",
       "      <th>2</th>\n",
       "      <td>21</td>\n",
       "      <td>1</td>\n",
       "      <td>0.141737</td>\n",
       "      <td>3</td>\n",
       "    </tr>\n",
       "    <tr>\n",
       "      <th>3</th>\n",
       "      <td>23</td>\n",
       "      <td>1</td>\n",
       "      <td>1.976801</td>\n",
       "      <td>4</td>\n",
       "    </tr>\n",
       "    <tr>\n",
       "      <th>4</th>\n",
       "      <td>26</td>\n",
       "      <td>1</td>\n",
       "      <td>1.890181</td>\n",
       "      <td>3</td>\n",
       "    </tr>\n",
       "    <tr>\n",
       "      <th>...</th>\n",
       "      <td>...</td>\n",
       "      <td>...</td>\n",
       "      <td>...</td>\n",
       "      <td>...</td>\n",
       "    </tr>\n",
       "    <tr>\n",
       "      <th>300001</th>\n",
       "      <td>5333</td>\n",
       "      <td>3952</td>\n",
       "      <td>0.893497</td>\n",
       "      <td>4</td>\n",
       "    </tr>\n",
       "    <tr>\n",
       "      <th>300002</th>\n",
       "      <td>5359</td>\n",
       "      <td>3952</td>\n",
       "      <td>0.714152</td>\n",
       "      <td>5</td>\n",
       "    </tr>\n",
       "    <tr>\n",
       "      <th>300003</th>\n",
       "      <td>5682</td>\n",
       "      <td>3952</td>\n",
       "      <td>0.739560</td>\n",
       "      <td>3</td>\n",
       "    </tr>\n",
       "    <tr>\n",
       "      <th>300004</th>\n",
       "      <td>5812</td>\n",
       "      <td>3952</td>\n",
       "      <td>0.783215</td>\n",
       "      <td>4</td>\n",
       "    </tr>\n",
       "    <tr>\n",
       "      <th>300005</th>\n",
       "      <td>5998</td>\n",
       "      <td>3952</td>\n",
       "      <td>0.621986</td>\n",
       "      <td>4</td>\n",
       "    </tr>\n",
       "  </tbody>\n",
       "</table>\n",
       "<p>300006 rows × 4 columns</p>\n",
       "</div>"
      ],
      "text/plain": [
       "         uID   mID  predicted_rating  rating\n",
       "0          6     1          0.548484       4\n",
       "1          8     1          0.935704       4\n",
       "2         21     1          0.141737       3\n",
       "3         23     1          1.976801       4\n",
       "4         26     1          1.890181       3\n",
       "...      ...   ...               ...     ...\n",
       "300001  5333  3952          0.893497       4\n",
       "300002  5359  3952          0.714152       5\n",
       "300003  5682  3952          0.739560       3\n",
       "300004  5812  3952          0.783215       4\n",
       "300005  5998  3952          0.621986       4\n",
       "\n",
       "[300006 rows x 4 columns]"
      ]
     },
     "execution_count": 5,
     "metadata": {},
     "output_type": "execute_result"
    }
   ],
   "source": [
    "# mutiply the matrixes to get a prediction\n",
    "pred = np.matmul(w1, h1)\n",
    "# turn it in to a dataframe\n",
    "df_pred = pd.DataFrame(data = pred, index = ratings_by_user_df.index.values, columns = ratings_by_user_df.columns.values) \n",
    "# assign a columns for user id\n",
    "df_pred['uID'] = df_pred.index.values\n",
    "# use melt to change it from wide to long format\n",
    "df_pred_long = pd.melt(df_pred, id_vars=['uID'], var_name='mID', value_name='predicted_rating')\n",
    "# merge it ith the actual ratings\n",
    "df_pred_vs_test = df_pred_long.merge(test, on=['uID', 'mID'])\n",
    "df_pred_vs_test"
   ]
  },
  {
   "cell_type": "code",
   "execution_count": 6,
   "id": "1956b67f-6005-4d05-aa7e-e0d666ab1e00",
   "metadata": {},
   "outputs": [
    {
     "data": {
      "text/plain": [
       "2.9914125525829425"
      ]
     },
     "execution_count": 6,
     "metadata": {},
     "output_type": "execute_result"
    }
   ],
   "source": [
    "rmse(df_pred_vs_test.predicted_rating.to_numpy(), df_pred_vs_test.rating.to_numpy())"
   ]
  },
  {
   "cell_type": "code",
   "execution_count": 5,
   "id": "27b5e53e-4f29-43ae-ad6d-ba0c67c8dd17",
   "metadata": {},
   "outputs": [
    {
     "data": {
      "text/plain": [
       "1.144331431727138"
      ]
     },
     "execution_count": 5,
     "metadata": {},
     "output_type": "execute_result"
    }
   ],
   "source": [
    "# fill the values with 3 insted of 0\n",
    "ratings_by_user_df = train.pivot(index='uID', columns='mID', values='rating')\n",
    "ratings_by_user_df = ratings_by_user_df.fillna(value = 3)\n",
    "# rerun nmf\n",
    "nmf = NMF(n_components=5, random_state=0,)\n",
    "w1 = nmf.fit_transform(ratings_by_user_df)\n",
    "h1 = nmf.components_\n",
    "pred = np.matmul(w1, h1)\n",
    "\n",
    "# recalculate the rmse\n",
    "df_pred = pd.DataFrame(data = pred, index = ratings_by_user_df.index.values, columns = ratings_by_user_df.columns.values) \n",
    "df_pred['uID'] = df_pred.index.values\n",
    "df_pred_long = pd.melt(df_pred, id_vars=['uID'], var_name='mID', value_name='predicted_rating')\n",
    "df_pred_vs_test = df_pred_long.merge(test, on=['uID', 'mID'])\n",
    "rmse(df_pred_vs_test.predicted_rating.to_numpy(), df_pred_vs_test.rating.to_numpy())"
   ]
  },
  {
   "cell_type": "code",
   "execution_count": null,
   "id": "7ec1170e-ab00-4fe5-80df-8b4acf59286a",
   "metadata": {},
   "outputs": [],
   "source": []
  }
 ],
 "metadata": {
  "kernelspec": {
   "display_name": "Python 3 (ipykernel)",
   "language": "python",
   "name": "python3"
  },
  "language_info": {
   "codemirror_mode": {
    "name": "ipython",
    "version": 3
   },
   "file_extension": ".py",
   "mimetype": "text/x-python",
   "name": "python",
   "nbconvert_exporter": "python",
   "pygments_lexer": "ipython3",
   "version": "3.9.19"
  }
 },
 "nbformat": 4,
 "nbformat_minor": 5
}
